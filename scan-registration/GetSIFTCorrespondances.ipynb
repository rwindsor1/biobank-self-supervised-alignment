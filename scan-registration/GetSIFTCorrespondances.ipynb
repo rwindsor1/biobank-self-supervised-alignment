{
 "cells": [
  {
   "cell_type": "code",
   "execution_count": 1,
   "metadata": {},
   "outputs": [],
   "source": [
    "import sys, os, glob\n",
    "from tqdm import tqdm\n",
    "import cv2\n",
    "import matplotlib.pyplot as plt\n",
    "import numpy as np\n",
    "import seaborn as sns\n",
    "sys.path.append('/users/rhydian/self-supervised-project')\n",
    "\n",
    "from keypoint_alignment_dataset import KeypointAlignmentDataset\n",
    "from models.SSECEncoders import VGGEncoder, HighResVGGEncoder\n",
    "from train_SSEC import load_models\n",
    "i\n",
    "from registration import get_matching_keypoints_correspondance, get_SIFT_correspondance, get_dense_correspondance, transform_points, find_best_rigid, resample_point\n",
    "from plotting import show_matches, show_warped_perspective, show_transformed_keypoints\n",
    "import torch.nn.functional as F"
   ]
  },
  {
   "cell_type": "code",
   "execution_count": 2,
   "metadata": {},
   "outputs": [
    {
     "name": "stdout",
     "output_type": "stream",
     "text": [
      "Trying to load from /users/rhydian/self-supervised-project/model_weights/SSECEncodersBothBoth\n",
      "==> Resuming model trained for 106 epochs...\n"
     ]
    },
    {
     "name": "stderr",
     "output_type": "stream",
     "text": [
      "/users/rhydian/anaconda3/envs/torch_env/lib/python3.7/site-packages/torch/cuda/__init__.py:52: UserWarning: CUDA initialization: Found no NVIDIA driver on your system. Please check that you have an NVIDIA GPU and installed a driver from http://www.nvidia.com/Download/index.aspx (Triggered internally at  /opt/conda/conda-bld/pytorch_1603729006826/work/c10/cuda/CUDAFunctions.cpp:100.)\n",
      "  return torch._C._cuda_getDeviceCount() > 0\n"
     ]
    }
   ],
   "source": [
    "class config():\n",
    "    TRAINING_AUGMENTATION=False\n",
    "    DATASET_ROOT = '/scratch/shared/beegfs/rhydian/UKBiobank'\n",
    "    #MODEL_LOAD_PATH = '/users/rhydian/self-supervised-project/model_weights/SSECEncodersHighRes2'#     \n",
    "    MODEL_LOAD_PATH = '/users/rhydian/self-supervised-project/model_weights/SSECEncodersBothBoth'\n",
    "    USE_EQUAL_RES = True\n",
    "    # ENCODER_TYPE = HighResVGGEncoder\n",
    "    ENCODER_TYPE = VGGEncoder\n",
    "    EMBEDDING_SIZE = 128\n",
    "    USE_CUDA = False \n",
    "    UPSAMPLE_FACTOR = 2 # amount feature maps scaled up for subpixel accuracy\n",
    "    USE_CYCLIC = True # use cyclic point correlation\n",
    "    USE_RANSAC = True\n",
    "    RANSAC_TOLERANCE = 15\n",
    "    GRID_RES = 1\n",
    "    ALLOW_SCALING = False\n",
    "    NUM_DISCRIM_POINTS = int(200*GRID_RES**2) # number of correlating pairs to find\n",
    "    METHOD = 'MATCH_KEYPOINT' # from DENSE, SIFT, MATCH_KEYPOINT\n",
    "    assert METHOD in ['MATCH_KEYPOINT','DENSE','SIFT']\n",
    "\n",
    "\n",
    "def set_up():\n",
    "    global c\n",
    "    ds  = KeypointAlignmentDataset()\n",
    "    dxa_model, mri_model, val_stats, epochs = load_models(c.ENCODER_TYPE, c.EMBEDDING_SIZE, \n",
    "                                                          c.MODEL_LOAD_PATH, c.USE_CUDA, SINGLE_MRI=0, SINGLE_DXA=0 )\n",
    "    return ds, dxa_model, mri_model, val_stats, epochs\n",
    "\n",
    "c = config()\n",
    "ds, dxa_model, mri_model, val_stats, epochs = set_up()"
   ]
  },
  {
   "cell_type": "code",
   "execution_count": null,
   "metadata": {},
   "outputs": [],
   "source": []
  }
 ],
 "metadata": {
  "kernelspec": {
   "display_name": "Python 3",
   "language": "python",
   "name": "python3"
  },
  "language_info": {
   "codemirror_mode": {
    "name": "ipython",
    "version": 3
   },
   "file_extension": ".py",
   "mimetype": "text/x-python",
   "name": "python",
   "nbconvert_exporter": "python",
   "pygments_lexer": "ipython3",
   "version": "3.7.7"
  }
 },
 "nbformat": 4,
 "nbformat_minor": 4
}
